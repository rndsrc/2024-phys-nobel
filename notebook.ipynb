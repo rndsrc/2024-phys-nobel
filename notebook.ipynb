{
 "cells": [
  {
   "cell_type": "markdown",
   "id": "13f53d61",
   "metadata": {},
   "source": [
    "# Jupyter Notebook for the 2024 Nobel Prize in Physics"
   ]
  },
  {
   "cell_type": "markdown",
   "id": "28f61340-03d5-46a4-8ab7-90e207e03ad4",
   "metadata": {},
   "source": [
    "## Introduction to the Ising Model\n",
    "\n",
    "The Ising model is a mathematical model in statistical mechanics, introduced by Wilhelm Lenz in 1920 and solved for the one-dimensional case by his student Ernst Ising in 1925. The model was originally used to explain ferromagnetism, where magnetic materials exhibit spontaneous magnetization due to interactions between neighboring atomic spins.\n",
    "\n",
    "* Wilhelm Lenz conceived the model as a simplified representation of magnetic interactions in a lattice, where spins can either point “up” (+1) or “down” (-1).\n",
    "* Ernst Ising solved the one-dimensional version of the model in his doctoral thesis, showing that it did not exhibit phase transitions—a result that was surprising at the time.\n",
    "* Lars Onsager solved the two-dimensional version of the model in 1944, demonstrating that it undergoes a phase transition at a critical temperature, where spontaneous magnetization occurs.\n",
    "\n",
    "Since then, the Ising model has become one of the most widely studied models in statistical physics and beyond. Its applications extend not only to physics (such as in magnetism and lattice gases) but also to fields like biology (neural networks), computer science (optimization problems), and even sociology (modeling opinion dynamics).\n",
    "\n",
    "The Metropolis algorithm (1953) was developed for Monte Carlo simulations of systems like the Ising model, enabling the study of large, complex systems by simulating their thermal fluctuations and statistical properties. This method revolutionized computational physics and remains a powerful tool in many areas of research today."
   ]
  },
  {
   "cell_type": "markdown",
   "id": "a7470f9f-f185-4396-b394-06425d897af0",
   "metadata": {},
   "source": [
    "## An Implementation of an Ising Model\n",
    "\n",
    "In this hands-on lab, we will implement the Ising model using the Metropolis algorithm in Python.\n",
    "\n",
    "### Energy Function of the Ising Model\n",
    "\n",
    "The total energy of a spin configuration in the Ising model is given by the following Hamiltonian (energy function):\n",
    "$$\n",
    "E = - \\sum_{\\langle i,j \\rangle} J_{ij} s_i s_j - \\mu \\sum_i h_i s_i,\n",
    "$$\n",
    "where:\n",
    "* $s_i$ is the spin at site $i$, which takes the value +1 or -1.\n",
    "* $J_{ij}$ is the coupling constant between neighboring spins $i$ and $j$. This parameter determines how strongly the spins influence each other. Positive $J_{ij}$ indicates ferromagnetic coupling (spins prefer to align), while negative $J_{ij}$ indicates antiferromagnetic coupling (spins prefer to be anti-aligned).\n",
    "* $\\langle i,j \\rangle$  represents the sum over all nearest neighbors.\n",
    "* $h_i$ is the external magnetic field applied to spin $s_i$.\n",
    "* $\\mu$ is a constant related to the magnetic moment of the spins.\n",
    "\n",
    "The system tries to minimize its total energy $E$.\n",
    "In the absence of an external field $(h_i = 0)$, the model behaves purely based on the interaction between neighboring spins.\n",
    "In regions where $J_{ij} > 0$, spins tend to align, either all pointing up (+1) or all pointing down (-1).\n",
    "\n",
    "### Energy Change Due to Spin Flip\n",
    "\n",
    "When a single spin $s_i$ flips, the change in energy is calculated by comparing the energy before and after the flip. The energy difference $\\Delta E$ due to flipping the spin at site $i$ is:\n",
    "$$\n",
    "\\Delta E = 2 s_i \\sum_{\\langle i,j \\rangle} J_{ij} s_j,\n",
    "$$\n",
    "where the sum is over the nearest neighbors $j$ of site $i$.\n",
    "The factor of 2 arises because flipping the spin at site $i$ changes its contribution to the energy from $-s_i s_j$ to $+s_i s_j$.\n",
    "\n",
    "### Metropolis Algorithm\n",
    "\n",
    "To simulate the evolution of the system at a given temperature, we use the Metropolis algorithm.\n",
    "This algorithm probabilistically accepts or rejects a spin flip based on the energy change  $\\Delta E$ and the temperature $T$.\n",
    "The probability of accepting a spin flip is given by the Boltzmann factor:\n",
    "$$\n",
    "P(\\text{flip}) =\n",
    "\\begin{cases}\n",
    "1 & \\text{if } \\Delta E < 0, \\\\\n",
    "\\exp\\left(-\\frac{\\Delta E}{k_B T}\\right) & \\text{if } \\Delta E \\geq 0,\n",
    "\\end{cases}\n",
    "$$\n",
    "where:\n",
    "* $\\Delta E$ is the energy change caused by the flip.\n",
    "* $k_\\mathrm{B}$ is the Boltzmann constant.\n",
    "* $T$ is the temperature.\n",
    "This allows the system to \"explore\" higher energy states at higher temperatures (thermal fluctuations), while favoring low-energy configurations as the system cools down.\n",
    "\n",
    "Given that the Ising model is pretty simple, we only need to use two packages, `numpy` for array handing and `matplotlib` for plotting."
   ]
  },
  {
   "cell_type": "code",
   "execution_count": 1,
   "id": "59e6e7e0-6a21-4e92-889b-18d67b1335db",
   "metadata": {},
   "outputs": [],
   "source": [
    "import numpy as np\n",
    "from matplotlib import pyplot as plt"
   ]
  },
  {
   "cell_type": "markdown",
   "id": "4be50810-0c99-4eb5-a931-634c02a70f8e",
   "metadata": {},
   "source": [
    "For easy comparison of simulation paramaters, we will implement the Ising model as a class."
   ]
  },
  {
   "cell_type": "code",
   "execution_count": 2,
   "id": "a0e1d21b-2690-4b87-a2ae-3803f6d0ee87",
   "metadata": {},
   "outputs": [],
   "source": [
    "class IsingModel:\n",
    "\n",
    "    def __init__(self, T, shape=(64,64)):\n",
    "        self.T     = T\n",
    "        self.shape = shape\n",
    "        self.state = None\n",
    "\n",
    "    def random(self, seed=None):\n",
    "        if seed is not None:\n",
    "            random.seed(seed)\n",
    "        self.state = np.random.choice([-1,1], size=self.shape)\n",
    "\n",
    "    @staticmethod\n",
    "    def dE(state, i,j):\n",
    "        I,J = state.shape\n",
    "        return ... # TODO: implement the change of energy\n",
    "\n",
    "    @staticmethod\n",
    "    def flip(state, i,j, T):\n",
    "        dE = IsingModel.dE(state, i,j)\n",
    "        return ... # TODO: implement the probability of accepting a spin flip\n",
    "\n",
    "    @staticmethod\n",
    "    def step(state, i,j, T):\n",
    "        if IsingModel.flip(state, i,j, T):\n",
    "            state[i,j] *= -1\n",
    "\n",
    "    def run(self, N):\n",
    "        for n in range(N):\n",
    "            i = np.random.randint(0, self.shape[0])\n",
    "            j = np.random.randint(0, self.shape[1])\n",
    "            self.step(self.state, i, j, self.T)"
   ]
  },
  {
   "cell_type": "code",
   "execution_count": 3,
   "id": "468c6243-01d8-44bb-a848-584fd2b31cc2",
   "metadata": {},
   "outputs": [],
   "source": [
    "I = IsingModel(1)"
   ]
  },
  {
   "cell_type": "code",
   "execution_count": 4,
   "id": "3e3cea0f-3f28-40ec-869b-863ab1f4c388",
   "metadata": {},
   "outputs": [
    {
     "data": {
      "text/plain": [
       "<matplotlib.image.AxesImage at 0x105ac05c0>"
      ]
     },
     "execution_count": 4,
     "metadata": {},
     "output_type": "execute_result"
    },
    {
     "data": {
      "image/png": "[encoded data removed]",
      "text/plain": [
       "<Figure size 640x480 with 1 Axes>"
      ]
     },
     "metadata": {},
     "output_type": "display_data"
    }
   ],
   "source": [
    "I.random()\n",
    "I.run(64*64*100)\n",
    "plt.imshow(I.state)"
   ]
  },
  {
   "cell_type": "code",
   "execution_count": null,
   "id": "03e8b6a9-1193-4cd4-85a6-989854462bdc",
   "metadata": {},
   "outputs": [],
   "source": [
    "# TODO: instead of just visualizing the final output, implement a loop to create a movie\n",
    "\n",
    "..."
   ]
  },
  {
   "cell_type": "code",
   "execution_count": null,
   "id": "0a3a0037",
   "metadata": {},
   "outputs": [],
   "source": [
    "# TODO: plot magnetization, i.e., sum(state) / state.size, as a function of step\n",
    "\n",
    "..."
   ]
  },
  {
   "cell_type": "code",
   "execution_count": null,
   "id": "1f399b38",
   "metadata": {},
   "outputs": [],
   "source": [
    "# TODO: plot magnetization for different temperature\n",
    "\n",
    "..."
   ]
  },
  {
   "cell_type": "markdown",
   "id": "e5171deb-4285-4a77-beae-e528406f8027",
   "metadata": {},
   "source": [
    "## Hopfield Network\n",
    "\n",
    "The Hopfield network, developed by John Hopfield in 1982, is an artificial neural network model with a deep connection to the Ising model.\n",
    "This connection is key to understanding why Hopfield's work, recognized in the 2024 Nobel Prize in Physics, has had such a profound impact on the fields of neural networks and machine learning.\n",
    "\n",
    "At its core, the Hopfield network functions as a recurrent neural network designed to store and recall patterns.\n",
    "Each \"neuron\" in the network can be in one of two states: active (+1) or inactive (-1).\n",
    "This binary nature closely mirrors the spin states in the Ising model, where each spin is either \"up\" or \"down\".\n",
    "The neurons are interconnected, and the network evolves by updating the state of each neuron based on the states of its neighbors, following rules that minimize the system's overall energy.\n",
    "\n",
    "What makes this particularly interesting is that the energy minimization process in the Hopfield network is mathematically analogous to how the Ising model works.\n",
    "In both systems, there is a well-defined energy function that describes the interaction between units---spins in the Ising model, and neurons in the Hopfield network.\n",
    "The system naturally evolves toward a state that minimizes this energy, and for the Hopfield network, these low-energy states correspond to stored memory patterns.\n",
    "When a noisy or incomplete input is presented to the network, it \"relaxes\" into one of these low-energy states, effectively recalling the stored pattern.\n",
    "\n",
    "This shared framework of energy minimization is what connects the Hopfield network so closely to the Ising model.\n",
    "In fact, the mathematical structure of the energy function in a Hopfield network is very similar to the Hamiltonian of the Ising model, where the weights between neurons play a role analogous to the coupling between spins.\n",
    "\n",
    "The recognition of the Hopfield network in the 2024 Nobel Prize highlights this elegant crossover between physics and neural computation.\n",
    "The ideas from statistical mechanics, particularly the energy minimization concepts of the Ising model, laid the groundwork for significant advances in understanding how networks of simple elements---whether spins or neurons---can produce complex, emergent behavior.\n",
    "\n",
    "### Energy Function of the Hopfield Network\n",
    "\n",
    "The energy of a Hopfield network is given by a Hamiltonian similar to that of the Ising model:\n",
    "$$\n",
    "E = - \\sum_{i \\neq j} W_{ij} \\sigma_i \\sigma_j - \\sum_i \\theta_i \\sigma_i,\n",
    "$$\n",
    "where:\n",
    "* $\\sigma_i$ is the state of neuron $i$, taking values +1 or -1.\n",
    "* $W_{ij}$ represents the connection strength (synaptic weight) between neurons $i$ and $j$.\n",
    "* $\\theta_i$ is the threshold value for neuron $i$.\n",
    "\n",
    "The network evolves to minimize this energy function, analogous to how the Ising model minimizes its energy through spin alignment.\n",
    "\n",
    "### Energy Change in the Hopfield Network\n",
    "\n",
    "When a single neuron $\\sigma_i$ flips, the change in energy is:\n",
    "$$\n",
    "\\Delta E = 2 \\sigma_i \\sum_j W_{ij} \\sigma_j.\n",
    "$$\n",
    "Similar to the Ising model, this energy change depends on the state of neighboring neurons and their connection strengths.\n",
    "\n",
    "### Hebbian Learning Rule\n",
    "\n",
    "The weights in a Hopfield network are learned using the Hebbian learning rule, which strengthens the connections between neurons that are activated together.\n",
    "The weights are calculated as:\n",
    "$$\n",
    "W_{ij} = \\frac{1}{P} \\sum_p \\sigma_i^p \\sigma_j^p\n",
    "$$\n",
    "Where:\n",
    "* $N$ is the number of neurons.\n",
    "* $P$ is the number of patterns.\n",
    "* $\\sigma_i^p$ is the state of neuron $i$ in a pattern $p$.\n",
    "\n",
    "This ensures that when the network is presented with an input similar to one of the stored patterns, it evolves toward that pattern by minimizing its energy.\n",
    "\n",
    "In order to provide some interesting example images, we important an additional packages `pillow`."
   ]
  },
  {
   "cell_type": "code",
   "execution_count": 5,
   "id": "122ee04c-e60d-4910-8226-f38a65d977f9",
   "metadata": {},
   "outputs": [],
   "source": [
    "from PIL import Image"
   ]
  },
  {
   "cell_type": "markdown",
   "id": "b367790e-4722-4fe8-bb01-7a16c28c7b82",
   "metadata": {},
   "source": [
    "Similar to the Ising model, we then implement the Hopfield Network in a class."
   ]
  },
  {
   "cell_type": "code",
   "execution_count": 6,
   "id": "46995cc9-0b9c-4b65-bdc6-1180a3f2b703",
   "metadata": {},
   "outputs": [],
   "source": [
    "class HopfieldNetwork:\n",
    "    \n",
    "    def __init__(self, shape=(64,64)):\n",
    "        self.W     = 0.0\n",
    "        self.shape = shape\n",
    "        self.state = None\n",
    "\n",
    "    def random(self, seed=None):\n",
    "        if seed is not None:\n",
    "            random.seed(seed)\n",
    "        self.state = np.random.choice([-1,1], size=self.shape)\n",
    "\n",
    "    def train(self, patterns):\n",
    "        for p in patterns:\n",
    "            assert p.shape == self.shape\n",
    "            ... # TODO: implement the Hebbian learning rule\n",
    "        np.fill_diagonal(self.W, 0)  # ensure no neuron connects to itself\n",
    "        self.W /= len(patterns)      # normalize by the number of patterns\n",
    "\n",
    "    @staticmethod\n",
    "    def step(state, i, j, W):\n",
    "        state[i,j] = np.sign(np.dot(W[i*state.shape[1]+j], state.flatten()))\n",
    "\n",
    "    def run(self, N):\n",
    "        for n in range(N):\n",
    "            i = np.random.randint(0, self.shape[0])\n",
    "            j = np.random.randint(0, self.shape[1])\n",
    "            self.step(self.state, i, j, self.W)"
   ]
  },
  {
   "cell_type": "markdown",
   "id": "aa393892-4ac4-4617-a0de-43d1d8e06174",
   "metadata": {},
   "source": [
    "To provide an interesting demo, we use `pillow` to load two png files.\n",
    "They are U of A and wildcat logos."
   ]
  },
  {
   "cell_type": "code",
   "execution_count": 7,
   "id": "5fa3378b-dc53-4828-b0c8-17927bea421c",
   "metadata": {},
   "outputs": [
    {
     "data": {
      "text/plain": [
       "<matplotlib.image.AxesImage at 0x105baa840>"
      ]
     },
     "execution_count": 7,
     "metadata": {},
     "output_type": "execute_result"
    },
    {
     "data": {
      "image/png": "[encoded data removed]",
      "text/plain": [
       "<Figure size 640x480 with 2 Axes>"
      ]
     },
     "metadata": {},
     "output_type": "display_data"
    }
   ],
   "source": [
    "with Image.open(\"A.png\") as f:\n",
    "    A = ... # TODO: turn image into bitmap\n",
    "\n",
    "with Image.open(\"C.png\") as f:\n",
    "    C = ... # TODO: turn image into bitmap\n",
    "\n",
    "fig, (ax0, ax1) = plt.subplots(1,2)\n",
    "ax0.imshow(A)\n",
    "ax1.imshow(C)"
   ]
  },
  {
   "cell_type": "markdown",
   "id": "9550d29f-3035-446b-a174-582ee31e21ce",
   "metadata": {},
   "source": [
    "We then create a Hopfield Network and \"train\" it with the two logos."
   ]
  },
  {
   "cell_type": "code",
   "execution_count": 8,
   "id": "7bd521ff-3151-44c9-a283-27b0bd0dc5d3",
   "metadata": {},
   "outputs": [],
   "source": [
    "h = HopfieldNetwork()\n",
    "h.train([A, C])"
   ]
  },
  {
   "cell_type": "markdown",
   "id": "23a4d65f-fd71-4a61-b2e9-d379f8e541f3",
   "metadata": {},
   "source": [
    "Then, by randomly initializing the state of the network, we can recover one of the logos."
   ]
  },
  {
   "cell_type": "code",
   "execution_count": 9,
   "id": "2865d0d2-2623-4dc0-ba3e-cedb32992d17",
   "metadata": {},
   "outputs": [
    {
     "data": {
      "text/plain": [
       "<matplotlib.image.AxesImage at 0x105f965d0>"
      ]
     },
     "execution_count": 9,
     "metadata": {},
     "output_type": "execute_result"
    },
    {
     "data": {
      "image/png": "[encoded data removed]",
      "text/plain": [
       "<Figure size 640x480 with 1 Axes>"
      ]
     },
     "metadata": {},
     "output_type": "display_data"
    }
   ],
   "source": [
    "h.random()\n",
    "h.run(256*256)\n",
    "plt.imshow(h.state)"
   ]
  },
  {
   "cell_type": "code",
   "execution_count": 10,
   "id": "b6399cc3-7f3d-4cd7-a34c-b745e8eec2e7",
   "metadata": {},
   "outputs": [
    {
     "data": {
      "text/plain": [
       "<matplotlib.image.AxesImage at 0x106056240>"
      ]
     },
     "execution_count": 10,
     "metadata": {},
     "output_type": "execute_result"
    },
    {
     "data": {
      "image/png": "[encoded data removed]",
      "text/plain": [
       "<Figure size 640x480 with 1 Axes>"
      ]
     },
     "metadata": {},
     "output_type": "display_data"
    }
   ],
   "source": [
    "h.random()\n",
    "h.run(256*256)\n",
    "plt.imshow(h.state)"
   ]
  },
  {
   "cell_type": "code",
   "execution_count": null,
   "id": "904c81fc-0f7a-43a9-b838-1d9ef33f9a1a",
   "metadata": {},
   "outputs": [],
   "source": [
    "# TODO: load up more images/patterns to train the Hopfield Network\n",
    "\n",
    "..."
   ]
  },
  {
   "cell_type": "code",
   "execution_count": null,
   "id": "a4355d39-5d77-4d9b-b823-8e65deb771c2",
   "metadata": {},
   "outputs": [],
   "source": [
    "# TODO: implement some control to the radom state so they are more likely\n",
    "# to converge to a particular image\n",
    "\n",
    "..."
   ]
  },
  {
   "cell_type": "code",
   "execution_count": null,
   "id": "1084a1a8-704c-4934-a455-ab3005ef3c69",
   "metadata": {},
   "outputs": [],
   "source": [
    "# TODO: instead of just visualizing the final output, implement a loop to create a movie\n",
    "\n",
    "..."
   ]
  },
  {
   "cell_type": "markdown",
   "id": "ec8bca53-fbde-4338-9d2c-efee1ba183c5",
   "metadata": {},
   "source": [
    "## Boltzmann Machine\n",
    "\n",
    "The Boltzmann Machine, introduced by Geoffrey Hinton and Terrence Sejnowski in 1985, is a stochastic recurrent neural network.\n",
    "It is named after the Boltzmann distribution, which describes the probability distribution of states in a system at thermal equilibrium.\n",
    "The key idea is that the network evolves to minimize its energy, with neurons (or nodes) probabilistically switching between states based on their energy contributions.\n",
    "\n",
    "Like the Hopfield network, the Boltzmann Machine consists of binary units that can take on states of active (+1) or inactive (-1).\n",
    "However, unlike Hopfield networks, the Boltzmann Machine uses stochastic (probabilistic) updates instead of deterministic updates.\n",
    "This allows it to explore a broader set of possible states and makes it more suitable for tasks such as learning probability distributions.\n",
    "In this sense, the update algorithm of a Boltzmann Machine is more similar to the Ising model than the Hopfield Network.\n",
    "\n",
    "### Energy Function of the Boltzmann Machine\n",
    "\n",
    "The energy of the Boltzmann Machine, like that of the Hopfield network and the Ising model, is defined by an energy function:\n",
    "$$\n",
    "E = - \\sum_{i \\neq j} W_{ij} \\sigma_i \\sigma_j - \\sum_i \\theta_i \\sigma_i\n",
    "$$\n",
    "where:\n",
    "* $\\sigma_i$ represents the state of neuron $i$, which takes values +1 or -1.\n",
    "* $W_{ij}$ is the symmetric weight between neuron $i$ and neuron $j$.\n",
    "* $\\theta_i$ is the bias term for neuron $i$.\n",
    "\n",
    "Note that its form is identical to a Hopfield Network.\n",
    "The main difference is that the Boltzmann Machine aims to minimize this energy follows a Boltzmann distribution:\n",
    "$$\n",
    "P(\\sigma) = \\frac{1}{Z} \\exp\\left( -\\frac{E(\\sigma)}{k_B T} \\right)\n",
    "$$\n",
    "Where:\n",
    "* $P(\\sigma)$  is the probability of the system being in state $\\sigma$.\n",
    "* $Z$ is the partition function, ensuring that all probabilities sum to 1.\n",
    "* $k_\\mathrm{B}$ is the Boltzmann constant.\n",
    "* $T$ is the temperature of the system.\n",
    "\n",
    "This probabilistic nature allows the Boltzmann Machine to explore different states, potentially escaping local energy minima and converging toward global minima, making it more powerful for optimization tasks than the Hopfield network.\n",
    "\n",
    "### Probabilistic Updates (Gibbs Sampling)\n",
    "\n",
    "In a Boltzmann Machine, neurons are updated asynchronously and probabilistically using Gibbs sampling.\n",
    "The update rule is based on the sigmoid function of the weighted sum of the states of connected neurons:\n",
    "$$\n",
    "P(\\sigma_i = 1) = \\frac{1}{1 + \\exp\\left( -\\frac{ \\sum_j W_{ij} \\sigma_j + \\theta_i}{T} \\right)}\n",
    "$$\n",
    "where:\n",
    "* $\\sum_j W_{ij} \\sigma_j$ is the total input from the neighboring neurons to neuron $i$.\n",
    "* $\\theta_i$ is the bias for neuron $i$.\n",
    "* $T$ is the temperature, controlling the degree of randomness.\n",
    "\n",
    "At high temperatures $T$, neurons flip more randomly, allowing the system to explore a wider range of configurations.\n",
    "As the temperature decreases, the system is more likely to settle into lower-energy states, much like in simulated annealing, which is an optimization algorithm inspired by the Boltzmann Machine.\n",
    "\n",
    "### Learning in Boltzmann Machines\n",
    "\n",
    "Learning in a Boltzmann Machine typically involves adjusting the weights $W_{ij}$ so that the network can model a given dataset or probability distribution.\n",
    "This is usually done using a variant of the contrastive divergence algorithm, which adjusts the weights to minimize the difference between the data distribution and the distribution generated by the network.\n",
    "\n",
    "The learning rule for the weights is derived from the difference between the correlations of the visible and hidden units in the \"positive\" phase (before sampling) and the \"negative\" phase (after sampling):\n",
    "$$\n",
    "\\Delta W_{ij} = \\eta \\left( \\langle \\sigma_i \\sigma_j \\rangle_{\\text{data}} - \\langle \\sigma_i \\sigma_j \\rangle_{\\text{model}} \\right)\n",
    "$$\n",
    "where:\n",
    "* $\\eta$ is the learning rate.\n",
    "* $\\langle \\sigma_i \\sigma_j \\rangle_{\\text{data}}$ represents the average correlation between units $i$ and $j$ when the network is clamped to the training data.\n",
    "* $\\langle \\sigma_i \\sigma_j \\rangle_{\\text{model}}$ represents the average correlation when the network is free to sample from its distribution.\n",
    "\n",
    "This rule updates the weights such that the Boltzmann Machine learns to model the input data."
   ]
  },
  {
   "cell_type": "code",
   "execution_count": null,
   "id": "b17038ce-7239-4a3c-b8c1-479e5e1d376c",
   "metadata": {},
   "outputs": [],
   "source": [
    "# TODO: Implement a Boltzmann Machine\n",
    "\n",
    "..."
   ]
  }
 ],
 "metadata": {
  "jupytext": {
   "formats": "ipynb,md"
  },
  "kernelspec": {
   "display_name": "Python 3 (ipykernel)",
   "language": "python",
   "name": "python3"
  },
  "language_info": {
   "codemirror_mode": {
    "name": "ipython",
    "version": 3
   },
   "file_extension": ".py",
   "mimetype": "text/x-python",
   "name": "python",
   "nbconvert_exporter": "python",
   "pygments_lexer": "ipython3",
   "version": "3.12.6"
  }
 },
 "nbformat": 4,
 "nbformat_minor": 5
}
